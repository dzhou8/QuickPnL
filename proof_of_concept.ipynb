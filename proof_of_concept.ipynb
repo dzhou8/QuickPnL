{
 "cells": [
  {
   "cell_type": "code",
   "execution_count": null,
   "metadata": {},
   "outputs": [],
   "source": [
    "import pandas as pd\n",
    "from datetime import datetime, time\n",
    "import numpy as np\n",
    "\n",
    "ES_df = pd.read_csv('./data/ES_5Years_8_11_2024.csv')\n",
    "NQ_df = pd.read_csv('./data/NQ_5Years_8_11_2024.csv')\n",
    "ES_df['datetime'] = pd.to_datetime(ES_df['Time'])\n",
    "NQ_df['datetime'] = pd.to_datetime(NQ_df['Time'])\n",
    "\n",
    "ES_df['Date'] = ES_df['datetime'].dt.date\n",
    "ES_df['Time'] = ES_df['datetime'].dt.time\n",
    "NQ_df['Date'] = NQ_df['datetime'].dt.date\n",
    "NQ_df['Time'] = NQ_df['datetime'].dt.time\n",
    "\n",
    "ES_df['datetime'] = ES_df['datetime'].dt.round('min')\n",
    "NQ_df['datetime'] = NQ_df['datetime'].dt.round('min')\n",
    "ES_df = ES_df.set_index('datetime')\n",
    "NQ_df = NQ_df.set_index('datetime')\n",
    "\n",
    "display(ES_df)\n",
    "print(ES_df.dtypes)"
   ]
  },
  {
   "cell_type": "code",
   "execution_count": null,
   "metadata": {},
   "outputs": [],
   "source": [
    "def generate_trade_data(df, dates, time_start, time_end):\n",
    "    rows = []\n",
    "\n",
    "    for date_str in dates:\n",
    "        date_obj = pd.to_datetime(date_str).date()\n",
    "        start_dt = pd.Timestamp(datetime.combine(date_obj, time_start)).round('min')\n",
    "        end_dt = pd.Timestamp(datetime.combine(date_obj, time_end)).round('min')\n",
    "\n",
    "        if start_dt in df.index and end_dt in df.index:\n",
    "            start_price = df.loc[start_dt]['Close']\n",
    "            end_price = df.loc[end_dt]['Close']\n",
    "            diff = end_price - start_price\n",
    "\n",
    "            rows.append({\n",
    "                'date': date_str,\n",
    "                'start_dt': start_dt,\n",
    "                'end_dt': end_dt,\n",
    "                'start_price': start_price,\n",
    "                'end_price': end_price,\n",
    "                'diff': diff\n",
    "            })\n",
    "\n",
    "    return pd.DataFrame(rows)\n",
    "\n",
    "def backtest(trade_df, position='long'):\n",
    "    if position == 'long':\n",
    "        trade_df['PnL'] = trade_df['diff']\n",
    "    elif position == 'short':\n",
    "        trade_df['PnL'] = -trade_df['diff']\n",
    "    else:\n",
    "        raise ValueError(\"Position must be 'long' or 'short'\")\n",
    "\n",
    "    trade_df['cumulative_PnL'] = trade_df['PnL'].cumsum()\n",
    "    return trade_df\n",
    "\n",
    "dates = ['2023-11-30', '2024-02-29', '2024-05-31']\n",
    "time_start = time(15, 30)\n",
    "time_end = time(15, 55)\n",
    "\n",
    "trade_df = generate_trade_data(ES_df, dates, time_start, time_end)\n",
    "bt_result = backtest(trade_df, position='long')\n",
    "display(bt_result)"
   ]
  },
  {
   "cell_type": "code",
   "execution_count": null,
   "metadata": {},
   "outputs": [],
   "source": [
    "import matplotlib.pyplot as plt\n",
    "\n",
    "def plot_pnl(trade_df):\n",
    "    plt.figure(figsize=(10, 5))\n",
    "    plt.plot(trade_df['date'], trade_df['cumulative_PnL'], marker='o')\n",
    "    plt.title('Cumulative PnL')\n",
    "    plt.xlabel('Date')\n",
    "    plt.ylabel('PnL')\n",
    "    plt.grid(True)\n",
    "    plt.xticks(rotation=45)\n",
    "    plt.tight_layout()\n",
    "    plt.show()\n",
    "\n",
    "plot_pnl(bt_result)"
   ]
  },
  {
   "cell_type": "code",
   "execution_count": null,
   "metadata": {},
   "outputs": [],
   "source": [
    "def calculate_annualized_sharpe(trade_df):\n",
    "    start = pd.to_datetime(trade_df['date'].min())\n",
    "    end = pd.to_datetime(trade_df['date'].max())\n",
    "    num_business_days = np.busday_count(start.date(), end.date()) or 1  # prevent divide-by-zero\n",
    "\n",
    "    mean_pnl = trade_df['PnL'].mean()\n",
    "    std_pnl = trade_df['PnL'].std(ddof=0)\n",
    "\n",
    "    if std_pnl == 0:\n",
    "        sharpe = np.nan\n",
    "    else:\n",
    "        sharpe = (mean_pnl / std_pnl) * np.sqrt(252 / num_business_days)\n",
    "\n",
    "    print(f\"Annualized Sharpe Ratio: {sharpe:.4f}\")\n",
    "    return sharpe\n",
    "\n",
    "calculate_annualized_sharpe(bt_result)"
   ]
  },
  {
   "cell_type": "code",
   "execution_count": null,
   "metadata": {},
   "outputs": [],
   "source": []
  }
 ],
 "metadata": {
  "kernelspec": {
   "display_name": "venv",
   "language": "python",
   "name": "python3"
  },
  "language_info": {
   "codemirror_mode": {
    "name": "ipython",
    "version": 3
   },
   "file_extension": ".py",
   "mimetype": "text/x-python",
   "name": "python",
   "nbconvert_exporter": "python",
   "pygments_lexer": "ipython3",
   "version": "3.10.12"
  }
 },
 "nbformat": 4,
 "nbformat_minor": 2
}
